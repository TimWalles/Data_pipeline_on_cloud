{
 "cells": [
  {
   "cell_type": "markdown",
   "metadata": {},
   "source": [
    "# setting up airports MySQL database(s) on AWS\n",
    "Goal is: setting up one or more databases with airports data. The airport data we want are:\n",
    "- city_name\n",
    "- airport name\n",
    "- airport_id\n",
    "- country code\n",
    "- latitude\n",
    "- longitude\n",
    "\n",
    "The airport database(s) will be static databases as their information won't change on a daily basis. Any change to airports in the databases can/ will be done manually.\n",
    "\n",
    "## API request\n",
    "In a first step we want to figure out which airports a city have and of those we want to get the above mentioned information. To get the airports around a city and information we'll be using API requests. We'll request for each city the list of airports. The response of the API we'll normalize to obtain only the information relevant to us and push this information to the different sql databases on AWS."
   ]
  },
  {
   "cell_type": "code",
   "execution_count": 1,
   "metadata": {},
   "outputs": [],
   "source": [
    "%load_ext autoreload\n",
    "%autoreload 2"
   ]
  },
  {
   "cell_type": "code",
   "execution_count": 4,
   "metadata": {},
   "outputs": [],
   "source": [
    "import pandas as pd\n",
    "from tqdm.notebook import tqdm\n",
    "from src.service.mysql_db import MySQL\n",
    "from src.service.aero_databox_api import AeroDataBox\n",
    "from src.normalizers.aero_databox_normalizer import normalize_airports_info"
   ]
  },
  {
   "cell_type": "code",
   "execution_count": 5,
   "metadata": {},
   "outputs": [],
   "source": [
    "# initialize MySQL class\n",
    "con = MySQL()"
   ]
  },
  {
   "cell_type": "code",
   "execution_count": 6,
   "metadata": {},
   "outputs": [
    {
     "data": {
      "text/html": [
       "<div>\n",
       "<style scoped>\n",
       "    .dataframe tbody tr th:only-of-type {\n",
       "        vertical-align: middle;\n",
       "    }\n",
       "\n",
       "    .dataframe tbody tr th {\n",
       "        vertical-align: top;\n",
       "    }\n",
       "\n",
       "    .dataframe thead th {\n",
       "        text-align: right;\n",
       "    }\n",
       "</style>\n",
       "<table border=\"1\" class=\"dataframe\">\n",
       "  <thead>\n",
       "    <tr style=\"text-align: right;\">\n",
       "      <th></th>\n",
       "      <th>city_id</th>\n",
       "      <th>city_name</th>\n",
       "      <th>country</th>\n",
       "      <th>country_code</th>\n",
       "    </tr>\n",
       "  </thead>\n",
       "  <tbody>\n",
       "    <tr>\n",
       "      <th>0</th>\n",
       "      <td>1</td>\n",
       "      <td>Berlin</td>\n",
       "      <td>Germany</td>\n",
       "      <td>DE</td>\n",
       "    </tr>\n",
       "  </tbody>\n",
       "</table>\n",
       "</div>"
      ],
      "text/plain": [
       "   city_id city_name  country country_code\n",
       "0        1    Berlin  Germany           DE"
      ]
     },
     "execution_count": 6,
     "metadata": {},
     "output_type": "execute_result"
    }
   ],
   "source": [
    "# read cities_df from the sql server\n",
    "cities_df = pd.read_sql_table('cities', con=con.con())\n",
    "cities_df.head()"
   ]
  },
  {
   "cell_type": "code",
   "execution_count": 7,
   "metadata": {},
   "outputs": [
    {
     "data": {
      "text/html": [
       "<div>\n",
       "<style scoped>\n",
       "    .dataframe tbody tr th:only-of-type {\n",
       "        vertical-align: middle;\n",
       "    }\n",
       "\n",
       "    .dataframe tbody tr th {\n",
       "        vertical-align: top;\n",
       "    }\n",
       "\n",
       "    .dataframe thead th {\n",
       "        text-align: right;\n",
       "    }\n",
       "</style>\n",
       "<table border=\"1\" class=\"dataframe\">\n",
       "  <thead>\n",
       "    <tr style=\"text-align: right;\">\n",
       "      <th></th>\n",
       "      <th>city_id</th>\n",
       "      <th>city_name</th>\n",
       "      <th>country</th>\n",
       "      <th>country_code</th>\n",
       "      <th>id</th>\n",
       "      <th>latitude</th>\n",
       "      <th>longitude</th>\n",
       "    </tr>\n",
       "  </thead>\n",
       "  <tbody>\n",
       "    <tr>\n",
       "      <th>0</th>\n",
       "      <td>1</td>\n",
       "      <td>Berlin</td>\n",
       "      <td>Germany</td>\n",
       "      <td>DE</td>\n",
       "      <td>1</td>\n",
       "      <td>52.52</td>\n",
       "      <td>13.405</td>\n",
       "    </tr>\n",
       "  </tbody>\n",
       "</table>\n",
       "</div>"
      ],
      "text/plain": [
       "   city_id city_name  country country_code  id  latitude  longitude\n",
       "0        1    Berlin  Germany           DE   1     52.52     13.405"
      ]
     },
     "execution_count": 7,
     "metadata": {},
     "output_type": "execute_result"
    }
   ],
   "source": [
    "# merge the cities_df with the latitude and longitude information of each city\n",
    "cities_df = cities_df.merge(pd.read_sql_table('cities_location', con=con.con()), how='left')\n",
    "cities_df.head()"
   ]
  },
  {
   "cell_type": "code",
   "execution_count": 8,
   "metadata": {},
   "outputs": [],
   "source": [
    "# initialize AeroDataBox class\n",
    "aero_databox_api = AeroDataBox()"
   ]
  },
  {
   "cell_type": "code",
   "execution_count": 9,
   "metadata": {},
   "outputs": [],
   "source": [
    "# search airports api http url\n",
    "url = \"https://aerodatabox.p.rapidapi.com/airports/search/location\""
   ]
  },
  {
   "cell_type": "code",
   "execution_count": 10,
   "metadata": {},
   "outputs": [
    {
     "data": {
      "application/vnd.jupyter.widget-view+json": {
       "model_id": "b9f193c3160c417abbb40b22acb7c5cc",
       "version_major": 2,
       "version_minor": 0
      },
      "text/plain": [
       "  0%|          | 0/1 [00:00<?, ?it/s]"
      ]
     },
     "metadata": {},
     "output_type": "display_data"
    }
   ],
   "source": [
    "# maximum km distance between airport and city center\n",
    "distance_from_center = 20\n",
    "\n",
    "# collect airport information\n",
    "airport_infos = []\n",
    "for row in tqdm(cities_df.itertuples(), total=cities_df.shape[0]):\n",
    "    query_params = {\"lat\": row.latitude, \"lon\": row.longitude, \"radiusKm\": distance_from_center, \"limit\": 10, \"withFlightInfoOnly\": True}\n",
    "    response = aero_databox_api.get_response(url=url, params=query_params)\n",
    "    if not response:\n",
    "        continue\n",
    "    airport_infos.append(pd.DataFrame(normalize_airports_info(response, row.city_id)))\n",
    "airports_df = pd.concat(airport_infos, ignore_index=True)"
   ]
  },
  {
   "cell_type": "code",
   "execution_count": 11,
   "metadata": {},
   "outputs": [
    {
     "name": "stdout",
     "output_type": "stream",
     "text": [
      "(1, 6)\n",
      "<class 'pandas.core.frame.DataFrame'>\n",
      "RangeIndex: 1 entries, 0 to 0\n",
      "Data columns (total 6 columns):\n",
      " #   Column        Non-Null Count  Dtype  \n",
      "---  ------        --------------  -----  \n",
      " 0   city_id       1 non-null      int64  \n",
      " 1   airport_id    1 non-null      object \n",
      " 2   airport_name  1 non-null      object \n",
      " 3   country_code  1 non-null      object \n",
      " 4   latitude      1 non-null      float64\n",
      " 5   longitude     1 non-null      float64\n",
      "dtypes: float64(2), int64(1), object(3)\n",
      "memory usage: 180.0+ bytes\n"
     ]
    }
   ],
   "source": [
    "# check data format\n",
    "print(airports_df.shape)\n",
    "airports_df.info()"
   ]
  },
  {
   "cell_type": "code",
   "execution_count": 12,
   "metadata": {},
   "outputs": [
    {
     "data": {
      "text/plain": [
       "1"
      ]
     },
     "execution_count": 12,
     "metadata": {},
     "output_type": "execute_result"
    }
   ],
   "source": [
    "# write df to airports sql table\n",
    "airports_df[['airport_id', 'airport_name']].to_sql('airports', if_exists='append', con=con.con(), index=False)"
   ]
  },
  {
   "cell_type": "code",
   "execution_count": 13,
   "metadata": {},
   "outputs": [
    {
     "data": {
      "text/plain": [
       "1"
      ]
     },
     "execution_count": 13,
     "metadata": {},
     "output_type": "execute_result"
    }
   ],
   "source": [
    "# write df to cities_airports sql table\n",
    "airports_df[['airport_id', 'city_id']].to_sql('cities_airports', if_exists='append', con=con.con(), index=False)"
   ]
  },
  {
   "cell_type": "code",
   "execution_count": 14,
   "metadata": {},
   "outputs": [
    {
     "data": {
      "text/plain": [
       "1"
      ]
     },
     "execution_count": 14,
     "metadata": {},
     "output_type": "execute_result"
    }
   ],
   "source": [
    "# write df to cities_airports sql table\n",
    "airports_df[['airport_id', 'latitude', 'longitude']].to_sql('airports_location', if_exists='append', con=con.con(), index=False)"
   ]
  },
  {
   "cell_type": "code",
   "execution_count": null,
   "metadata": {},
   "outputs": [],
   "source": []
  }
 ],
 "metadata": {
  "kernelspec": {
   "display_name": "p3.11",
   "language": "python",
   "name": "python3"
  },
  "language_info": {
   "codemirror_mode": {
    "name": "ipython",
    "version": 3
   },
   "file_extension": ".py",
   "mimetype": "text/x-python",
   "name": "python",
   "nbconvert_exporter": "python",
   "pygments_lexer": "ipython3",
   "version": "3.11.5"
  }
 },
 "nbformat": 4,
 "nbformat_minor": 2
}
